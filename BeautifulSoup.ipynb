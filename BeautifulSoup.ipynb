{
 "cells": [
  {
   "cell_type": "code",
   "execution_count": 1,
   "id": "5fea935a-29a1-43b1-85f8-cad6f7f86e79",
   "metadata": {},
   "outputs": [
    {
     "name": "stdout",
     "output_type": "stream",
     "text": [
      "Collecting bs4\n",
      "  Downloading bs4-0.0.2-py2.py3-none-any.whl.metadata (411 bytes)\n",
      "Requirement already satisfied: beautifulsoup4 in c:\\users\\nithu\\anaconda3\\lib\\site-packages (from bs4) (4.12.3)\n",
      "Requirement already satisfied: soupsieve>1.2 in c:\\users\\nithu\\anaconda3\\lib\\site-packages (from beautifulsoup4->bs4) (2.5)\n",
      "Downloading bs4-0.0.2-py2.py3-none-any.whl (1.2 kB)\n",
      "Installing collected packages: bs4\n",
      "Successfully installed bs4-0.0.2\n"
     ]
    }
   ],
   "source": [
    "!pip install bs4"
   ]
  },
  {
   "cell_type": "code",
   "execution_count": 3,
   "id": "b4cce751-4efa-41c4-b355-94f9d9b9fc58",
   "metadata": {},
   "outputs": [],
   "source": [
    "from bs4 import BeautifulSoup\n",
    "\n",
    "# Sample HTML document\n",
    "html_doc = \"\"\"\n",
    "<html>\n",
    "<head><title>World's Population</title></head>\n",
    "<body>\n",
    "    <h1>Main Heading</h1>\n",
    "    <p class=\"xyz\">This is a paragraph.</p>\n",
    "    <p class=\"content\">Another paragraph with <a href=\"https://example.com\">a link</a>.</p>\n",
    "\n",
    "    <div id=\"container\">\n",
    "        <ul>\n",
    "            <li class=\"item\">Item 1</li>\n",
    "            <li class=\"item\">Item 2</li>\n",
    "            <li class=\"item\">Item 3</li>\n",
    "        </ul>\n",
    "    </div>\n",
    "\n",
    "    <table>\n",
    "        <tr><th>Name</th><th>Age</th></tr>\n",
    "        <tr><td>Alice</td><td>25</td></tr>\n",
    "        <tr><td>Bob</td><td>30</td></tr>\n",
    "    </table>\n",
    "</body>\n",
    "</html>\n",
    "\"\"\"\n",
    "\n"
   ]
  },
  {
   "cell_type": "code",
   "execution_count": 5,
   "id": "ab610de1-2ac9-49c4-9d1f-956c0e2ab3da",
   "metadata": {},
   "outputs": [
    {
     "name": "stdout",
     "output_type": "stream",
     "text": [
      "\n",
      "<html>\n",
      "<head><title>World's Population</title></head>\n",
      "<body>\n",
      "<h1>Main Heading</h1>\n",
      "<p class=\"xyz\">This is a paragraph.</p>\n",
      "<p class=\"content\">Another paragraph with <a href=\"https://example.com\">a link</a>.</p>\n",
      "<div id=\"container\">\n",
      "<ul>\n",
      "<li class=\"item\">Item 1</li>\n",
      "<li class=\"item\">Item 2</li>\n",
      "<li class=\"item\">Item 3</li>\n",
      "</ul>\n",
      "</div>\n",
      "<table>\n",
      "<tr><th>Name</th><th>Age</th></tr>\n",
      "<tr><td>Alice</td><td>25</td></tr>\n",
      "<tr><td>Bob</td><td>30</td></tr>\n",
      "</table>\n",
      "</body>\n",
      "</html>\n",
      "\n"
     ]
    }
   ],
   "source": [
    "soup = BeautifulSoup(html_doc, \"html.parser\")\n",
    "print(soup)"
   ]
  },
  {
   "cell_type": "code",
   "execution_count": 7,
   "id": "78a19686-cd9e-40f5-bbd2-5b041177517e",
   "metadata": {},
   "outputs": [
    {
     "name": "stdout",
     "output_type": "stream",
     "text": [
      "Page Title: \n",
      "Main Heading\n",
      "This is a paragraph.\n",
      "Another paragraph with a link.\n",
      "\n",
      "\n",
      "Item 1\n",
      "Item 2\n",
      "Item 3\n",
      "\n",
      "\n",
      "\n",
      "NameAge\n",
      "Alice25\n",
      "Bob30\n",
      "\n",
      "\n"
     ]
    }
   ],
   "source": [
    "#Finding things via tags\n",
    "\n",
    "# 1. **Basic Parsing**\n",
    "print(\"Page Title:\", soup.body.text)  # Extract title\n",
    "#Limitation: Finds first occurence only"
   ]
  },
  {
   "cell_type": "code",
   "execution_count": 9,
   "id": "15701666-83a2-4e82-ba95-13f480c1c576",
   "metadata": {},
   "outputs": [
    {
     "name": "stdout",
     "output_type": "stream",
     "text": [
      "\n",
      "Prettified HTML:\n",
      "<html>\n",
      " <body>\n",
      "  <span>\n",
      "   This is first\n",
      "  </span>\n",
      "  <p>\n",
      "   This is second\n",
      "  </p>\n",
      " </body>\n",
      "</html>\n",
      "\n"
     ]
    }
   ],
   "source": [
    "# 10. **Prettifying HTML Output**\n",
    "x = BeautifulSoup(\"<html><body><span>This is first</span><p>This is second</p></body></html>\",\"html.parser\")\n",
    "print(\"\\nPrettified HTML:\")\n",
    "print(x.prettify())"
   ]
  },
  {
   "cell_type": "code",
   "execution_count": 11,
   "id": "4b7a023d-3999-4d71-a920-81bcfc20f6f6",
   "metadata": {},
   "outputs": [
    {
     "name": "stdout",
     "output_type": "stream",
     "text": [
      "\n",
      "Find first paragraph: This is a paragraph.\n",
      "Find all paragraphs: [<p class=\"xyz\">This is a paragraph.</p>, <p class=\"content\">Another paragraph with <a href=\"https://example.com\">a link</a>.</p>]\n",
      "['This is a paragraph.', 'Another paragraph with a link.']\n"
     ]
    }
   ],
   "source": [
    "# 2. **Finding Elements**\n",
    "print(\"\\nFind first paragraph:\",( soup.find(\"p\").text) ) # First <p> tag\n",
    "print(\"Find all paragraphs:\", soup.find_all(\"p\"))  # All <p> tags\n",
    "x = []\n",
    "for i in soup.find_all(\"p\"):\n",
    "  x.append(i.text)\n",
    "print(x)"
   ]
  },
  {
   "cell_type": "code",
   "execution_count": 13,
   "id": "431b64c1-ceaf-45a2-82e2-6a4fdab38a75",
   "metadata": {},
   "outputs": [
    {
     "name": "stdout",
     "output_type": "stream",
     "text": [
      "\n",
      "Using CSS Selectors:\n",
      "This is a paragraph.\n",
      "This is a paragraph.\n",
      "Item 2\n"
     ]
    }
   ],
   "source": [
    "# 3. **Using CSS Selectors**\n",
    "print(\"\\nUsing CSS Selectors:\")\n",
    "print(soup.select(\"p\")[0].text)  # Select by tag name\n",
    "print(soup.select(\".xyz\")[0].text)  # Select by class\n",
    "print(soup.select(\"#container ul li\")[1].text)  # Select second list item in <ul>"
   ]
  },
  {
   "cell_type": "code",
   "execution_count": 15,
   "id": "36b820d0-b810-4ec9-924f-11264addf353",
   "metadata": {},
   "outputs": [
    {
     "name": "stdout",
     "output_type": "stream",
     "text": [
      "\n",
      "Table Data:\n",
      "['NameAge']\n",
      "['Alice25']\n",
      "Name: Alice, Age: 25\n",
      "['Bob30']\n",
      "Name: Bob, Age: 30\n"
     ]
    }
   ],
   "source": [
    "table1 = soup.find(\"table\")\n",
    "rows = table1.find_all(\"tr\")\n",
    "print(\"\\nTable Data:\")\n",
    "for row in rows:\n",
    "   cols = row.find_all(\"td\")\n",
    "   print(row.text.split())\n",
    "   if cols:\n",
    "        print(f\"Name: {cols[0].text}, Age: {cols[1].text}\")"
   ]
  },
  {
   "cell_type": "code",
   "execution_count": null,
   "id": "928ac28d-8807-40a6-8eaf-82ee4f1675e0",
   "metadata": {},
   "outputs": [],
   "source": []
  }
 ],
 "metadata": {
  "kernelspec": {
   "display_name": "Python 3 (ipykernel)",
   "language": "python",
   "name": "python3"
  },
  "language_info": {
   "codemirror_mode": {
    "name": "ipython",
    "version": 3
   },
   "file_extension": ".py",
   "mimetype": "text/x-python",
   "name": "python",
   "nbconvert_exporter": "python",
   "pygments_lexer": "ipython3",
   "version": "3.12.7"
  }
 },
 "nbformat": 4,
 "nbformat_minor": 5
}
